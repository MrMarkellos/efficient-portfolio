{
 "cells": [
  {
   "cell_type": "markdown",
   "id": "a61aafbd-d91d-4418-aa37-8842723727c0",
   "metadata": {},
   "source": [
    "# Libraries"
   ]
  },
  {
   "cell_type": "code",
   "execution_count": 1,
   "id": "b93aae7f-2e96-4fa2-ab70-1f1a32593f05",
   "metadata": {},
   "outputs": [],
   "source": [
    "import numpy as np\n",
    "import pandas as pd\n",
    "from scipy.optimize import minimize\n",
    "import matplotlib.pyplot as plt"
   ]
  },
  {
   "cell_type": "code",
   "execution_count": 2,
   "id": "dadd4bb4-cc87-428b-9559-9b085675f0e5",
   "metadata": {},
   "outputs": [],
   "source": [
    "results_df = pd.read_csv (\"portfolio_return.csv\", header = [0], index_col = 0)\n",
    "covariance_matrix = pd.read_csv (\"portfolio_covariance.csv\", header = [0], index_col = 0)"
   ]
  },
  {
   "cell_type": "markdown",
   "id": "3145580d-7ad0-4848-9482-df0b50d0b3bb",
   "metadata": {},
   "source": [
    "# Portfolio Matrix\n"
   ]
  },
  {
   "cell_type": "code",
   "execution_count": 3,
   "id": "401f0e91-900e-421c-8c4f-77226fce20ff",
   "metadata": {},
   "outputs": [
    {
     "data": {
      "text/html": [
       "<div>\n",
       "<style scoped>\n",
       "    .dataframe tbody tr th:only-of-type {\n",
       "        vertical-align: middle;\n",
       "    }\n",
       "\n",
       "    .dataframe tbody tr th {\n",
       "        vertical-align: top;\n",
       "    }\n",
       "\n",
       "    .dataframe thead th {\n",
       "        text-align: right;\n",
       "    }\n",
       "</style>\n",
       "<table border=\"1\" class=\"dataframe\">\n",
       "  <thead>\n",
       "    <tr style=\"text-align: right;\">\n",
       "      <th></th>\n",
       "      <th>Expected Return</th>\n",
       "      <th>St. Deviation</th>\n",
       "    </tr>\n",
       "  </thead>\n",
       "  <tbody>\n",
       "    <tr>\n",
       "      <th>CW8.MI</th>\n",
       "      <td>0.133201</td>\n",
       "      <td>0.166646</td>\n",
       "    </tr>\n",
       "    <tr>\n",
       "      <th>ETHE</th>\n",
       "      <td>1.030072</td>\n",
       "      <td>1.074457</td>\n",
       "    </tr>\n",
       "    <tr>\n",
       "      <th>GC=F</th>\n",
       "      <td>0.115089</td>\n",
       "      <td>0.160264</td>\n",
       "    </tr>\n",
       "    <tr>\n",
       "      <th>IDTP.L</th>\n",
       "      <td>0.018112</td>\n",
       "      <td>0.077618</td>\n",
       "    </tr>\n",
       "    <tr>\n",
       "      <th>LYTNOW.SW</th>\n",
       "      <td>0.217980</td>\n",
       "      <td>0.254180</td>\n",
       "    </tr>\n",
       "    <tr>\n",
       "      <th>SXRC.MU</th>\n",
       "      <td>0.023706</td>\n",
       "      <td>0.390229</td>\n",
       "    </tr>\n",
       "  </tbody>\n",
       "</table>\n",
       "</div>"
      ],
      "text/plain": [
       "           Expected Return  St. Deviation\n",
       "CW8.MI            0.133201       0.166646\n",
       "ETHE              1.030072       1.074457\n",
       "GC=F              0.115089       0.160264\n",
       "IDTP.L            0.018112       0.077618\n",
       "LYTNOW.SW         0.217980       0.254180\n",
       "SXRC.MU           0.023706       0.390229"
      ]
     },
     "execution_count": 3,
     "metadata": {},
     "output_type": "execute_result"
    }
   ],
   "source": [
    "results_df"
   ]
  },
  {
   "cell_type": "code",
   "execution_count": 4,
   "id": "3136f240-3869-4aff-a89f-ad4e9b96d224",
   "metadata": {},
   "outputs": [
    {
     "data": {
      "text/html": [
       "<div>\n",
       "<style scoped>\n",
       "    .dataframe tbody tr th:only-of-type {\n",
       "        vertical-align: middle;\n",
       "    }\n",
       "\n",
       "    .dataframe tbody tr th {\n",
       "        vertical-align: top;\n",
       "    }\n",
       "\n",
       "    .dataframe thead th {\n",
       "        text-align: right;\n",
       "    }\n",
       "</style>\n",
       "<table border=\"1\" class=\"dataframe\">\n",
       "  <thead>\n",
       "    <tr style=\"text-align: right;\">\n",
       "      <th></th>\n",
       "      <th>CW8.MI</th>\n",
       "      <th>ETHE</th>\n",
       "      <th>GC=F</th>\n",
       "      <th>IDTP.L</th>\n",
       "      <th>LYTNOW.SW</th>\n",
       "      <th>SXRC.MU</th>\n",
       "    </tr>\n",
       "    <tr>\n",
       "      <th>Ticker</th>\n",
       "      <th></th>\n",
       "      <th></th>\n",
       "      <th></th>\n",
       "      <th></th>\n",
       "      <th></th>\n",
       "      <th></th>\n",
       "    </tr>\n",
       "  </thead>\n",
       "  <tbody>\n",
       "    <tr>\n",
       "      <th>CW8.MI</th>\n",
       "      <td>0.027792</td>\n",
       "      <td>0.042735</td>\n",
       "      <td>0.001464</td>\n",
       "      <td>0.002152</td>\n",
       "      <td>0.028558</td>\n",
       "      <td>-0.002456</td>\n",
       "    </tr>\n",
       "    <tr>\n",
       "      <th>ETHE</th>\n",
       "      <td>0.042735</td>\n",
       "      <td>1.155353</td>\n",
       "      <td>0.022826</td>\n",
       "      <td>0.010937</td>\n",
       "      <td>0.049319</td>\n",
       "      <td>-0.015792</td>\n",
       "    </tr>\n",
       "    <tr>\n",
       "      <th>GC=F</th>\n",
       "      <td>0.001464</td>\n",
       "      <td>0.022826</td>\n",
       "      <td>0.025704</td>\n",
       "      <td>0.004852</td>\n",
       "      <td>0.005854</td>\n",
       "      <td>0.002139</td>\n",
       "    </tr>\n",
       "    <tr>\n",
       "      <th>IDTP.L</th>\n",
       "      <td>0.002152</td>\n",
       "      <td>0.010937</td>\n",
       "      <td>0.004852</td>\n",
       "      <td>0.006029</td>\n",
       "      <td>0.003386</td>\n",
       "      <td>0.004709</td>\n",
       "    </tr>\n",
       "    <tr>\n",
       "      <th>LYTNOW.SW</th>\n",
       "      <td>0.028558</td>\n",
       "      <td>0.049319</td>\n",
       "      <td>0.005854</td>\n",
       "      <td>0.003386</td>\n",
       "      <td>0.064658</td>\n",
       "      <td>-0.005040</td>\n",
       "    </tr>\n",
       "    <tr>\n",
       "      <th>SXRC.MU</th>\n",
       "      <td>-0.002456</td>\n",
       "      <td>-0.015792</td>\n",
       "      <td>0.002139</td>\n",
       "      <td>0.004709</td>\n",
       "      <td>-0.005040</td>\n",
       "      <td>0.152397</td>\n",
       "    </tr>\n",
       "  </tbody>\n",
       "</table>\n",
       "</div>"
      ],
      "text/plain": [
       "             CW8.MI      ETHE      GC=F    IDTP.L  LYTNOW.SW   SXRC.MU\n",
       "Ticker                                                                \n",
       "CW8.MI     0.027792  0.042735  0.001464  0.002152   0.028558 -0.002456\n",
       "ETHE       0.042735  1.155353  0.022826  0.010937   0.049319 -0.015792\n",
       "GC=F       0.001464  0.022826  0.025704  0.004852   0.005854  0.002139\n",
       "IDTP.L     0.002152  0.010937  0.004852  0.006029   0.003386  0.004709\n",
       "LYTNOW.SW  0.028558  0.049319  0.005854  0.003386   0.064658 -0.005040\n",
       "SXRC.MU   -0.002456 -0.015792  0.002139  0.004709  -0.005040  0.152397"
      ]
     },
     "execution_count": 4,
     "metadata": {},
     "output_type": "execute_result"
    }
   ],
   "source": [
    "covariance_matrix "
   ]
  },
  {
   "cell_type": "markdown",
   "id": "1ffeb08e-3439-4746-8c05-bccd5afc7dcf",
   "metadata": {},
   "source": [
    "# Portfolio Optimazation"
   ]
  },
  {
   "cell_type": "code",
   "execution_count": 5,
   "id": "5694b4fa-5ad7-4715-84ae-ade4510ef350",
   "metadata": {},
   "outputs": [],
   "source": [
    "# The list of assets \n",
    "assets = covariance_matrix.columns.get_level_values(0).unique()"
   ]
  },
  {
   "cell_type": "code",
   "execution_count": 6,
   "id": "1adc8259-db5a-428a-bd90-8d2dee89801f",
   "metadata": {},
   "outputs": [],
   "source": [
    "# Number of portfolios to generate \n",
    "num_portfolios = 10000\n",
    "# Risk Free Rate\n",
    "risk_free_rate = 0.043  \n",
    "# The minimum weight for each asset (default: 0.01).\n",
    "min_weight = 0.01\n",
    "# The number of assets in the portfolio.\n",
    "num_assets = len(assets)"
   ]
  },
  {
   "cell_type": "code",
   "execution_count": 7,
   "id": "679130b3-5ab0-48bd-8b70-9621f76b4409",
   "metadata": {},
   "outputs": [],
   "source": [
    "# Matrix\n",
    "portfolio_returns = []\n",
    "portfolio_volatilities = []\n",
    "sharpe_ratios = []\n",
    "optimal_weights_all = []\n",
    "\n",
    "#Efficient frontier line\n",
    "efficient_frontier_volatilities = []\n",
    "efficient_frontier_returns = []"
   ]
  },
  {
   "cell_type": "code",
   "execution_count": 8,
   "id": "d2dee6f7-0847-47ce-97e7-bef607bd201b",
   "metadata": {},
   "outputs": [],
   "source": [
    "def generate_random_weights(num_assets, min_weight=0.01):\n",
    "    \n",
    "    # Minimum weights are too large\n",
    "    if min_weight * num_assets > 1:\n",
    "        return None  \n",
    "        \n",
    "    # loop until the weights are valid\n",
    "    while True: \n",
    "        remaining_weight = 1.0\n",
    "        weights = np.zeros(num_assets)\n",
    "\n",
    "        for i in range(num_assets):\n",
    "            # calculate the maximum possible weight for the current asset.\n",
    "            max_possible_weight = remaining_weight - (num_assets - i - 1) * min_weight \n",
    "            # if the max possible weight is less than the minimum weight, then it is not possible to create a valid weight distribution\n",
    "            if max_possible_weight < min_weight: \n",
    "                break # break the loop and try again\n",
    "            weight = np.random.uniform(min_weight, max_possible_weight)\n",
    "            weights[i] = weight\n",
    "            remaining_weight -= weight\n",
    "\n",
    "        # check if the remaining weight is close to zero\n",
    "        if remaining_weight >= 0 and abs(remaining_weight) < 1e-9: \n",
    "            return weights # if remaining weight is close to zero, then the weights are valid, so return them\n",
    "        # if the remaining weight is not close to zero, then the weights are not valid, so try again"
   ]
  },
  {
   "cell_type": "code",
   "execution_count": 9,
   "id": "a2c66a94-7bce-4b80-aebc-b17f77eab5d5",
   "metadata": {},
   "outputs": [],
   "source": [
    "# Constraint: sum of weights = 1\n",
    "def check_weights(weights):\n",
    "    return np.sum(weights) - 1"
   ]
  },
  {
   "cell_type": "code",
   "execution_count": 11,
   "id": "97f08aed-339a-43c2-9fce-371c68a103f2",
   "metadata": {},
   "outputs": [],
   "source": [
    " for i in range(num_portfolios):\n",
    "    # Generate Random Weights:\n",
    "    weights = generate_random_weights(num_assets, min_weight)\n",
    "    if weights is None:\n",
    "        # Skip to the next iteration of the loop\n",
    "        print(\"Error: Could not generate valid weights. Skipping portfolio.\")\n",
    "        continue  \n",
    "\n",
    "    # Calculate Portfolio Return and Volatility:\n",
    "    portfolio_return = np.sum(weights * results_df['Expected Return'])\n",
    "    portfolio_volatility = np.sqrt(weights.T @ covariance_matrix @ weights)\n",
    "\n",
    "    # Calculate Sharpe Ratio:\n",
    "    sharpe_ratio = (portfolio_return - risk_free_rate) / portfolio_volatility\n",
    "\n",
    "    # Store Results:\n",
    "    portfolio_returns.append(portfolio_return)\n",
    "    portfolio_volatilities.append(portfolio_volatility)\n",
    "    sharpe_ratios.append(sharpe_ratio)\n",
    "\n",
    "    # Optimization for a specific target return (efficient frontier) \n",
    "    target_return = np.linspace(min(results_df['Expected Return']), max(results_df['Expected Return']), num_portfolios)[i]\n",
    "     \n",
    "    def portfolio_variance(weights, covariance_matrix):\n",
    "        return weights.T @ covariance_matrix @ weights\n",
    "    \n",
    "    def return_constraint(weights, expected_returns, target_return):\n",
    "        return np.sum(weights * expected_returns) - target_return\n",
    "\n",
    "    constraints = ({'type': 'eq', 'fun': check_weights},\n",
    "                   {'type': 'eq', 'fun': lambda w: return_constraint(w, results_df['Expected Return'], target_return)})  # Target return constraint\n",
    "\n",
    "    bounds = [(0, 1)] * num_assets\n",
    "    initial_weights = np.array([1/num_assets] * num_assets)\n",
    "\n",
    "    result = minimize(portfolio_variance, initial_weights, args=(covariance_matrix,), method='SLSQP', bounds=bounds, constraints=constraints)\n",
    "    \n",
    "    optimal_weights = result.x\n",
    "    optimal_weights_all.append(optimal_weights)"
   ]
  },
  {
   "cell_type": "code",
   "execution_count": 12,
   "id": "4a8c441d-4e97-4dfb-adde-d64d2d79c55c",
   "metadata": {},
   "outputs": [
    {
     "data": {
      "text/plain": [
       "Text(0.5, 1.0, 'The Volatility and Expected Return for Random Portfolio')"
      ]
     },
     "execution_count": 12,
     "metadata": {},
     "output_type": "execute_result"
    },
    {
     "data": {
      "image/png": "[encoded data removed]",
      "text/plain": [
       "<Figure size 1000x600 with 2 Axes>"
      ]
     },
     "metadata": {},
     "output_type": "display_data"
    }
   ],
   "source": [
    "plt.figure(figsize=(10, 6))\n",
    "plt.scatter(portfolio_volatilities, portfolio_returns, c=sharpe_ratios, cmap='viridis', label='Random Portfolios') #Random portfolios\n",
    "plt.colorbar(label='Sharpe Ratio')\n",
    "plt.xlabel('Portfolio Volatility (Standard Deviation)')\n",
    "plt.ylabel('Portfolio Return')\n",
    "plt.title('The Volatility and Expected Return for Random Portfolio')"
   ]
  },
  {
   "cell_type": "code",
   "execution_count": 13,
   "id": "e71186f0-663d-4c1f-ad23-1a1ce07c2faa",
   "metadata": {},
   "outputs": [],
   "source": [
    "for weights in optimal_weights_all:\n",
    "  portfolio_return = np.sum(weights * results_df['Expected Return'])\n",
    "  portfolio_volatility = np.sqrt(weights.T @ covariance_matrix @ weights)\n",
    "  efficient_frontier_returns.append(portfolio_return)\n",
    "  efficient_frontier_volatilities.append(portfolio_volatility)"
   ]
  },
  {
   "cell_type": "code",
   "execution_count": 14,
   "id": "45eeceb8-55c6-4002-8781-7eb4e36c8481",
   "metadata": {},
   "outputs": [
    {
     "data": {
      "image/png": "[encoded data removed]",
      "text/plain": [
       "<Figure size 640x480 with 1 Axes>"
      ]
     },
     "metadata": {},
     "output_type": "display_data"
    }
   ],
   "source": [
    "plt.plot(efficient_frontier_volatilities, efficient_frontier_returns, color='red', label='Efficient Frontier')\n",
    "plt.legend()\n",
    "plt.grid(True)\n",
    "plt.xlabel('Portfolio Volatility (Standard Deviation)')\n",
    "plt.ylabel('Portfolio Return')\n",
    "plt.title('Efficient Frontier')\n",
    "plt.show()"
   ]
  },
  {
   "cell_type": "code",
   "execution_count": 15,
   "id": "183f5788-4b78-4934-a65e-62c69a6bc67f",
   "metadata": {},
   "outputs": [],
   "source": [
    "max_sharpe_ratio_index = np.argmax(sharpe_ratios)"
   ]
  },
  {
   "cell_type": "code",
   "execution_count": 16,
   "id": "be18af68-0c25-45b7-b5bb-ab44f2dc2e81",
   "metadata": {},
   "outputs": [],
   "source": [
    "# Get the optimal weights for the maximum Sharpe Ratio portfolio:\n",
    "optimal_weights = optimal_weights_all[max_sharpe_ratio_index]"
   ]
  },
  {
   "cell_type": "code",
   "execution_count": 17,
   "id": "fdbbf68a-c41a-4937-b3a0-942f1eeea698",
   "metadata": {},
   "outputs": [],
   "source": [
    "portfolio_return = np.sum(optimal_weights* results_df['Expected Return'])\n",
    "portfolio_variance = optimal_weights.T @ covariance_matrix @ optimal_weights\n",
    "portfolio_std_dev = np.sqrt(portfolio_variance)\n",
    "beta= (portfolio_return - risk_free_rate) / (0.13 -  risk_free_rate)\n",
    "sharpe_ratio = (portfolio_return - risk_free_rate) / portfolio_std_dev"
   ]
  },
  {
   "cell_type": "code",
   "execution_count": 23,
   "id": "d04dafbf-b8d0-4c91-97c4-67546d0939ae",
   "metadata": {},
   "outputs": [
    {
     "name": "stdout",
     "output_type": "stream",
     "text": [
      "\n",
      "Portfolio with Maximum Sharpe Ratio:\n",
      "Sharpe Ratio: 1.0288\n",
      "Portfolio Annual Return: 67.71%\n",
      "Portfolio Variance: 40.57%\n",
      "Portfolio Standard Deviation: 63.69%\n",
      "BETA: 7.29\n"
     ]
    }
   ],
   "source": [
    "print(\"\\nPortfolio with Maximum Sharpe Ratio:\")\n",
    "print(f\"Sharpe Ratio: {sharpe_ratios[max_sharpe_ratio_index]:.4f}\")\n",
    "print(f\"Portfolio Annual Return: {portfolio_return:.2%}\")\n",
    "print(f\"Portfolio Variance: {portfolio_variance:.2%}\")\n",
    "print(f\"Portfolio Standard Deviation: {portfolio_std_dev:.2%}\")\n",
    "print(f\"BETA: {beta:.2f}\")"
   ]
  },
  {
   "cell_type": "code",
   "execution_count": 19,
   "id": "47e83a0e-119f-4c2a-add1-f1205fffbc37",
   "metadata": {},
   "outputs": [],
   "source": [
    "# Create a DataFrame to display the optimal weights:\n",
    "optimal_weights_df_sharpe = pd.DataFrame({'Asset': assets, 'Optimal Weight (Sharpe)': optimal_weights})"
   ]
  },
  {
   "cell_type": "code",
   "execution_count": 20,
   "id": "bc9aedb0-5d4e-4401-aea4-f1b97b514029",
   "metadata": {},
   "outputs": [
    {
     "name": "stdout",
     "output_type": "stream",
     "text": [
      "\n",
      "Optimal Weights (Maximum Sharpe Ratio Portfolio):\n",
      "        Asset  Optimal Weight (Sharpe)\n",
      "0     CW8.MI                   0.0000\n",
      "1       ETHE                   0.5653\n",
      "2       GC=F                   0.0000\n",
      "3     IDTP.L                   0.0000\n",
      "4  LYTNOW.SW                   0.4347\n",
      "5    SXRC.MU                   0.0000\n"
     ]
    }
   ],
   "source": [
    "print(\"\\nOptimal Weights (Maximum Sharpe Ratio Portfolio):\\n\", optimal_weights_df_sharpe.to_string(float_format=lambda x: f\"{x:.4f}\"))"
   ]
  },
  {
   "cell_type": "code",
   "execution_count": 21,
   "id": "edcb7ece-ab82-4484-b462-6ee7612a8e4f",
   "metadata": {},
   "outputs": [],
   "source": [
    "optimal_weights_df_sharpe.to_csv(\"optima;_Weights.csv\")"
   ]
  }
 ],
 "metadata": {
  "kernelspec": {
   "display_name": "Python 3 (ipykernel)",
   "language": "python",
   "name": "python3"
  },
  "language_info": {
   "codemirror_mode": {
    "name": "ipython",
    "version": 3
   },
   "file_extension": ".py",
   "mimetype": "text/x-python",
   "name": "python",
   "nbconvert_exporter": "python",
   "pygments_lexer": "ipython3",
   "version": "3.12.7"
  }
 },
 "nbformat": 4,
 "nbformat_minor": 5
}
