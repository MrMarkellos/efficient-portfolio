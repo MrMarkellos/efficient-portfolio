{
 "cells": [
  {
   "cell_type": "markdown",
   "id": "a61aafbd-d91d-4418-aa37-8842723727c0",
   "metadata": {},
   "source": [
    "# Libraries"
   ]
  },
  {
   "cell_type": "code",
   "execution_count": 1,
   "id": "b93aae7f-2e96-4fa2-ab70-1f1a32593f05",
   "metadata": {},
   "outputs": [],
   "source": [
    "import numpy as np\n",
    "import pandas as pd\n",
    "from scipy.optimize import minimize\n",
    "import matplotlib.pyplot as plt"
   ]
  },
  {
   "cell_type": "code",
   "execution_count": 2,
   "id": "dadd4bb4-cc87-428b-9559-9b085675f0e5",
   "metadata": {},
   "outputs": [],
   "source": [
    "df = pd.read_csv (\"portfolio_data.csv\", header = [0,1], index_col = 0, parse_dates =[0])"
   ]
  },
  {
   "cell_type": "markdown",
   "id": "3145580d-7ad0-4848-9482-df0b50d0b3bb",
   "metadata": {},
   "source": [
    "# Portfolio Close Prices"
   ]
  },
  {
   "cell_type": "code",
   "execution_count": 3,
   "id": "33967f58-efe9-46c8-a1b8-dc95042f5f61",
   "metadata": {},
   "outputs": [
    {
     "data": {
      "text/html": [
       "<div>\n",
       "<style scoped>\n",
       "    .dataframe tbody tr th:only-of-type {\n",
       "        vertical-align: middle;\n",
       "    }\n",
       "\n",
       "    .dataframe tbody tr th {\n",
       "        vertical-align: top;\n",
       "    }\n",
       "\n",
       "    .dataframe thead th {\n",
       "        text-align: right;\n",
       "    }\n",
       "</style>\n",
       "<table border=\"1\" class=\"dataframe\">\n",
       "  <thead>\n",
       "    <tr style=\"text-align: right;\">\n",
       "      <th>Ticker</th>\n",
       "      <th>CW8.MI</th>\n",
       "      <th>ETHE</th>\n",
       "      <th>GC=F</th>\n",
       "      <th>IDTP.L</th>\n",
       "      <th>LYTNOW.SW</th>\n",
       "      <th>SXRC.MU</th>\n",
       "    </tr>\n",
       "    <tr>\n",
       "      <th>Date</th>\n",
       "      <th></th>\n",
       "      <th></th>\n",
       "      <th></th>\n",
       "      <th></th>\n",
       "      <th></th>\n",
       "      <th></th>\n",
       "    </tr>\n",
       "  </thead>\n",
       "  <tbody>\n",
       "    <tr>\n",
       "      <th>2020-01-06</th>\n",
       "      <td>312.010010</td>\n",
       "      <td>2.933333</td>\n",
       "      <td>1566.199951</td>\n",
       "      <td>220.850006</td>\n",
       "      <td>354.850006</td>\n",
       "      <td>5.6300</td>\n",
       "    </tr>\n",
       "    <tr>\n",
       "      <th>2020-01-07</th>\n",
       "      <td>314.329987</td>\n",
       "      <td>3.194444</td>\n",
       "      <td>1571.800049</td>\n",
       "      <td>221.100006</td>\n",
       "      <td>356.500000</td>\n",
       "      <td>5.4100</td>\n",
       "    </tr>\n",
       "    <tr>\n",
       "      <th>2020-01-08</th>\n",
       "      <td>315.170013</td>\n",
       "      <td>3.046667</td>\n",
       "      <td>1557.400024</td>\n",
       "      <td>220.600006</td>\n",
       "      <td>357.000000</td>\n",
       "      <td>5.4400</td>\n",
       "    </tr>\n",
       "    <tr>\n",
       "      <th>2020-01-09</th>\n",
       "      <td>317.339996</td>\n",
       "      <td>2.977778</td>\n",
       "      <td>1551.699951</td>\n",
       "      <td>220.149994</td>\n",
       "      <td>363.200012</td>\n",
       "      <td>5.4400</td>\n",
       "    </tr>\n",
       "    <tr>\n",
       "      <th>2020-01-10</th>\n",
       "      <td>317.230011</td>\n",
       "      <td>2.888889</td>\n",
       "      <td>1557.500000</td>\n",
       "      <td>221.000000</td>\n",
       "      <td>365.100006</td>\n",
       "      <td>5.4400</td>\n",
       "    </tr>\n",
       "    <tr>\n",
       "      <th>...</th>\n",
       "      <td>...</td>\n",
       "      <td>...</td>\n",
       "      <td>...</td>\n",
       "      <td>...</td>\n",
       "      <td>...</td>\n",
       "      <td>...</td>\n",
       "    </tr>\n",
       "    <tr>\n",
       "      <th>2024-12-27</th>\n",
       "      <td>571.869995</td>\n",
       "      <td>27.959999</td>\n",
       "      <td>2617.199951</td>\n",
       "      <td>238.210007</td>\n",
       "      <td>924.299988</td>\n",
       "      <td>4.2460</td>\n",
       "    </tr>\n",
       "    <tr>\n",
       "      <th>2024-12-30</th>\n",
       "      <td>569.080017</td>\n",
       "      <td>28.450001</td>\n",
       "      <td>2606.100098</td>\n",
       "      <td>238.929993</td>\n",
       "      <td>921.000000</td>\n",
       "      <td>4.3060</td>\n",
       "    </tr>\n",
       "    <tr>\n",
       "      <th>2024-12-31</th>\n",
       "      <td>569.080017</td>\n",
       "      <td>28.020000</td>\n",
       "      <td>2629.199951</td>\n",
       "      <td>239.440002</td>\n",
       "      <td>921.000000</td>\n",
       "      <td>4.3060</td>\n",
       "    </tr>\n",
       "    <tr>\n",
       "      <th>2025-01-02</th>\n",
       "      <td>576.090027</td>\n",
       "      <td>28.920000</td>\n",
       "      <td>2658.899902</td>\n",
       "      <td>238.639999</td>\n",
       "      <td>921.000000</td>\n",
       "      <td>4.3190</td>\n",
       "    </tr>\n",
       "    <tr>\n",
       "      <th>2025-01-03</th>\n",
       "      <td>574.909973</td>\n",
       "      <td>30.219999</td>\n",
       "      <td>2645.000000</td>\n",
       "      <td>238.610001</td>\n",
       "      <td>918.500000</td>\n",
       "      <td>4.3015</td>\n",
       "    </tr>\n",
       "  </tbody>\n",
       "</table>\n",
       "<p>1293 rows × 6 columns</p>\n",
       "</div>"
      ],
      "text/plain": [
       "Ticker          CW8.MI       ETHE         GC=F      IDTP.L   LYTNOW.SW  \\\n",
       "Date                                                                     \n",
       "2020-01-06  312.010010   2.933333  1566.199951  220.850006  354.850006   \n",
       "2020-01-07  314.329987   3.194444  1571.800049  221.100006  356.500000   \n",
       "2020-01-08  315.170013   3.046667  1557.400024  220.600006  357.000000   \n",
       "2020-01-09  317.339996   2.977778  1551.699951  220.149994  363.200012   \n",
       "2020-01-10  317.230011   2.888889  1557.500000  221.000000  365.100006   \n",
       "...                ...        ...          ...         ...         ...   \n",
       "2024-12-27  571.869995  27.959999  2617.199951  238.210007  924.299988   \n",
       "2024-12-30  569.080017  28.450001  2606.100098  238.929993  921.000000   \n",
       "2024-12-31  569.080017  28.020000  2629.199951  239.440002  921.000000   \n",
       "2025-01-02  576.090027  28.920000  2658.899902  238.639999  921.000000   \n",
       "2025-01-03  574.909973  30.219999  2645.000000  238.610001  918.500000   \n",
       "\n",
       "Ticker      SXRC.MU  \n",
       "Date                 \n",
       "2020-01-06   5.6300  \n",
       "2020-01-07   5.4100  \n",
       "2020-01-08   5.4400  \n",
       "2020-01-09   5.4400  \n",
       "2020-01-10   5.4400  \n",
       "...             ...  \n",
       "2024-12-27   4.2460  \n",
       "2024-12-30   4.3060  \n",
       "2024-12-31   4.3060  \n",
       "2025-01-02   4.3190  \n",
       "2025-01-03   4.3015  \n",
       "\n",
       "[1293 rows x 6 columns]"
      ]
     },
     "execution_count": 3,
     "metadata": {},
     "output_type": "execute_result"
    }
   ],
   "source": [
    "df.Close\n",
    "close = df.Close.copy()\n",
    "close"
   ]
  },
  {
   "cell_type": "markdown",
   "id": "1ffeb08e-3439-4746-8c05-bccd5afc7dcf",
   "metadata": {},
   "source": [
    "# Assets Expected Return and Variance"
   ]
  },
  {
   "cell_type": "code",
   "execution_count": 4,
   "id": "5694b4fa-5ad7-4715-84ae-ade4510ef350",
   "metadata": {},
   "outputs": [],
   "source": [
    "# Get the list of assets (assuming they are the top-level columns of the 'Close' DataFrame)\n",
    "assets = close.columns.get_level_values(0).unique()"
   ]
  },
  {
   "cell_type": "code",
   "execution_count": 5,
   "id": "15b08d26-05a3-4454-9c3c-b1675c30decf",
   "metadata": {},
   "outputs": [
    {
     "name": "stdout",
     "output_type": "stream",
     "text": [
      "The Expected Return for CW8.MI is 13.32% per year.\n",
      "The St Deviation for CW8.MI is 16.66% per year.\n",
      "The Expected Return for ETHE is 103.01% per year.\n",
      "The St Deviation for ETHE is 107.45% per year.\n",
      "The Expected Return for GC=F is 11.51% per year.\n",
      "The St Deviation for GC=F is 16.03% per year.\n",
      "The Expected Return for IDTP.L is 1.81% per year.\n",
      "The St Deviation for IDTP.L is 7.76% per year.\n",
      "The Expected Return for LYTNOW.SW is 21.80% per year.\n",
      "The St Deviation for LYTNOW.SW is 25.42% per year.\n",
      "The Expected Return for SXRC.MU is 2.37% per year.\n",
      "The St Deviation for SXRC.MU is 39.02% per year.\n"
     ]
    }
   ],
   "source": [
    "results = {}\n",
    "\n",
    "# Calculate returns for ALL assets FIRST \n",
    "returns_all_assets = close.pct_change().dropna()  \n",
    "\n",
    "\n",
    "for asset in assets:\n",
    "    asset_data = close[asset].dropna().to_frame().copy()\n",
    "    asset_data.rename(columns={asset: \"Price\"}, inplace=True)\n",
    "\n",
    "     # Calculate returns\n",
    "    asset_data[\"returns\"] = asset_data[\"Price\"].pct_change() \n",
    "\n",
    "     # Annualize (252 trading days)\n",
    "    expected_return = np.mean(asset_data[\"returns\"]) \n",
    "    expected_return = expected_return*252\n",
    "    variance = np.var(asset_data[\"returns\"])\n",
    "    st_deviation =  np.sqrt(variance*252)\n",
    "\n",
    "    # Print the value\n",
    "    print(f\"The Expected Return for {asset} is {expected_return:.2%} per year.\")\n",
    "    print(f\"The St Deviation for {asset} is {st_deviation:.2%} per year.\") \n",
    "\n",
    "     # Store both return and variance in a dictionary\n",
    "    results[asset] = { \n",
    "        \"Expected Return\": expected_return,\n",
    "        \"St. Deviation\": st_deviation\n",
    "    }"
   ]
  },
  {
   "cell_type": "code",
   "execution_count": 6,
   "id": "dd526bbf-88cc-4d3e-b7fb-ffe70c261b45",
   "metadata": {},
   "outputs": [
    {
     "name": "stdout",
     "output_type": "stream",
     "text": [
      "\n",
      "Summary of Expected Annual Returns and St. Deviations:\n",
      "           Expected Return  St. Deviation\n",
      "CW8.MI            0.133201       0.166646\n",
      "ETHE              1.030072       1.074457\n",
      "GC=F              0.115089       0.160264\n",
      "IDTP.L            0.018112       0.077618\n",
      "LYTNOW.SW         0.217980       0.254180\n",
      "SXRC.MU           0.023706       0.390229\n"
     ]
    }
   ],
   "source": [
    "# DataFrame to summarize the results:\n",
    "results_df = pd.DataFrame.from_dict(results, orient='index')\n",
    "\n",
    "print(\"\\nSummary of Expected Annual Returns and St. Deviations:\")\n",
    "print(results_df)"
   ]
  },
  {
   "cell_type": "code",
   "execution_count": 7,
   "id": "8e5ce6e5-56ef-4d72-8017-5a3334953c06",
   "metadata": {},
   "outputs": [],
   "source": [
    "results_df.to_csv(\"portfolio_return.csv\")"
   ]
  },
  {
   "cell_type": "code",
   "execution_count": 8,
   "id": "087cfbb7-2d00-4a8e-9c0a-ecaf4ce1661b",
   "metadata": {},
   "outputs": [
    {
     "name": "stderr",
     "output_type": "stream",
     "text": [
      "C:\\Users\\marke\\AppData\\Local\\Temp\\ipykernel_10496\\2684805843.py:9: FutureWarning: Series.__getitem__ treating keys as positions is deprecated. In a future version, integer keys will always be treated as labels (consistent with DataFrame behavior). To access a value by position, use `ser.iloc[pos]`\n",
      "  plt.annotate(asset, (results_df['St. Deviation'][i], results_df['Expected Return'][i]), textcoords=\"offset points\", xytext=(0,10), ha='center')\n"
     ]
    },
    {
     "data": {
      "image/png": "[encoded data removed]",
      "text/plain": [
       "<Figure size 1000x600 with 1 Axes>"
      ]
     },
     "metadata": {},
     "output_type": "display_data"
    }
   ],
   "source": [
    "plt.figure(figsize=(10, 6))\n",
    "plt.scatter(results_df['St. Deviation'], results_df['Expected Return'], color='mediumseagreen', s=100)  # Adjust marker size (s)\n",
    "plt.xlabel('Annual Return St. Deviation')\n",
    "plt.ylabel('Expected Annual Return')\n",
    "plt.title('Expected Return vs. St. Deviation of Assets')\n",
    "\n",
    "# Add annotations for each point (optional):\n",
    "for i, asset in enumerate(results_df.index):\n",
    "    plt.annotate(asset, (results_df['St. Deviation'][i], results_df['Expected Return'][i]), textcoords=\"offset points\", xytext=(0,10), ha='center')\n",
    "\n",
    "plt.tight_layout()\n",
    "plt.show()"
   ]
  },
  {
   "cell_type": "markdown",
   "id": "83d66340-aa1f-44fc-a5ef-88daae37a46e",
   "metadata": {},
   "source": [
    "# Covariance"
   ]
  },
  {
   "cell_type": "code",
   "execution_count": 9,
   "id": "dfd2210f-2438-498c-bce0-a380ac1ec724",
   "metadata": {},
   "outputs": [
    {
     "data": {
      "text/html": [
       "<div>\n",
       "<style scoped>\n",
       "    .dataframe tbody tr th:only-of-type {\n",
       "        vertical-align: middle;\n",
       "    }\n",
       "\n",
       "    .dataframe tbody tr th {\n",
       "        vertical-align: top;\n",
       "    }\n",
       "\n",
       "    .dataframe thead th {\n",
       "        text-align: right;\n",
       "    }\n",
       "</style>\n",
       "<table border=\"1\" class=\"dataframe\">\n",
       "  <thead>\n",
       "    <tr style=\"text-align: right;\">\n",
       "      <th>Ticker</th>\n",
       "      <th>CW8.MI</th>\n",
       "      <th>ETHE</th>\n",
       "      <th>GC=F</th>\n",
       "      <th>IDTP.L</th>\n",
       "      <th>LYTNOW.SW</th>\n",
       "      <th>SXRC.MU</th>\n",
       "    </tr>\n",
       "    <tr>\n",
       "      <th>Ticker</th>\n",
       "      <th></th>\n",
       "      <th></th>\n",
       "      <th></th>\n",
       "      <th></th>\n",
       "      <th></th>\n",
       "      <th></th>\n",
       "    </tr>\n",
       "  </thead>\n",
       "  <tbody>\n",
       "    <tr>\n",
       "      <th>CW8.MI</th>\n",
       "      <td>0.027792</td>\n",
       "      <td>0.042735</td>\n",
       "      <td>0.001464</td>\n",
       "      <td>0.002152</td>\n",
       "      <td>0.028558</td>\n",
       "      <td>-0.002456</td>\n",
       "    </tr>\n",
       "    <tr>\n",
       "      <th>ETHE</th>\n",
       "      <td>0.042735</td>\n",
       "      <td>1.155353</td>\n",
       "      <td>0.022826</td>\n",
       "      <td>0.010937</td>\n",
       "      <td>0.049319</td>\n",
       "      <td>-0.015792</td>\n",
       "    </tr>\n",
       "    <tr>\n",
       "      <th>GC=F</th>\n",
       "      <td>0.001464</td>\n",
       "      <td>0.022826</td>\n",
       "      <td>0.025704</td>\n",
       "      <td>0.004852</td>\n",
       "      <td>0.005854</td>\n",
       "      <td>0.002139</td>\n",
       "    </tr>\n",
       "    <tr>\n",
       "      <th>IDTP.L</th>\n",
       "      <td>0.002152</td>\n",
       "      <td>0.010937</td>\n",
       "      <td>0.004852</td>\n",
       "      <td>0.006029</td>\n",
       "      <td>0.003386</td>\n",
       "      <td>0.004709</td>\n",
       "    </tr>\n",
       "    <tr>\n",
       "      <th>LYTNOW.SW</th>\n",
       "      <td>0.028558</td>\n",
       "      <td>0.049319</td>\n",
       "      <td>0.005854</td>\n",
       "      <td>0.003386</td>\n",
       "      <td>0.064658</td>\n",
       "      <td>-0.005040</td>\n",
       "    </tr>\n",
       "    <tr>\n",
       "      <th>SXRC.MU</th>\n",
       "      <td>-0.002456</td>\n",
       "      <td>-0.015792</td>\n",
       "      <td>0.002139</td>\n",
       "      <td>0.004709</td>\n",
       "      <td>-0.005040</td>\n",
       "      <td>0.152397</td>\n",
       "    </tr>\n",
       "  </tbody>\n",
       "</table>\n",
       "</div>"
      ],
      "text/plain": [
       "Ticker       CW8.MI      ETHE      GC=F    IDTP.L  LYTNOW.SW   SXRC.MU\n",
       "Ticker                                                                \n",
       "CW8.MI     0.027792  0.042735  0.001464  0.002152   0.028558 -0.002456\n",
       "ETHE       0.042735  1.155353  0.022826  0.010937   0.049319 -0.015792\n",
       "GC=F       0.001464  0.022826  0.025704  0.004852   0.005854  0.002139\n",
       "IDTP.L     0.002152  0.010937  0.004852  0.006029   0.003386  0.004709\n",
       "LYTNOW.SW  0.028558  0.049319  0.005854  0.003386   0.064658 -0.005040\n",
       "SXRC.MU   -0.002456 -0.015792  0.002139  0.004709  -0.005040  0.152397"
      ]
     },
     "execution_count": 9,
     "metadata": {},
     "output_type": "execute_result"
    }
   ],
   "source": [
    "covariance_matrix = returns_all_assets.cov() * 252  # Annualize the covariance matrix\n",
    "covariance_matrix "
   ]
  },
  {
   "cell_type": "code",
   "execution_count": 10,
   "id": "8570e4a8-5a03-499a-8aba-90179719147a",
   "metadata": {},
   "outputs": [],
   "source": [
    "covariance_matrix.to_csv(\"portfolio_covariance.csv\")"
   ]
  },
  {
   "cell_type": "markdown",
   "id": "f1e44863-6a93-4677-9b8b-7646b60cd0dc",
   "metadata": {},
   "source": [
    "# Portfolio Annual Return & Variance"
   ]
  },
  {
   "cell_type": "code",
   "execution_count": 11,
   "id": "1b7f5a35-08c5-4d4d-8b46-32fdf6cfcc04",
   "metadata": {},
   "outputs": [],
   "source": [
    "# 4.3% annual risk-free rate\n",
    "risk_free_rate = 0.043 "
   ]
  },
  {
   "cell_type": "code",
   "execution_count": 12,
   "id": "a3956851-963b-43e2-804c-f135b8876aff",
   "metadata": {},
   "outputs": [],
   "source": [
    "# Set your desired weights:\n",
    "weights = np.array([0.15, 0.2, 0.15, 0.1, 0.3, 0.1])"
   ]
  },
  {
   "cell_type": "code",
   "execution_count": 13,
   "id": "e460748c-6999-4e82-a750-f8708bbf9cba",
   "metadata": {},
   "outputs": [],
   "source": [
    "# Make sure the number of weights matches the number of assets\n",
    "if len(weights) != len(assets):\n",
    "    raise ValueError(\"Number of weights must match the number of assets.\")"
   ]
  },
  {
   "cell_type": "code",
   "execution_count": 14,
   "id": "9b93e118-f6bd-4393-be11-11a89cfbf724",
   "metadata": {},
   "outputs": [],
   "source": [
    "# Normalize the weights (just in case they don't sum to exactly 1 due to rounding):\n",
    "weights = weights / np.sum(weights)"
   ]
  },
  {
   "cell_type": "code",
   "execution_count": 15,
   "id": "a107a5bb-d2ff-46fb-ae43-c5ba826a85a9",
   "metadata": {},
   "outputs": [],
   "source": [
    "portfolio_return = np.sum(weights * results_df['Expected Return'])"
   ]
  },
  {
   "cell_type": "code",
   "execution_count": 16,
   "id": "69bde4d9-1801-4b33-9d81-c2bf653f5d33",
   "metadata": {},
   "outputs": [],
   "source": [
    "#Calculating portfolio variance with set weights:\n",
    "portfolio_variance = weights.T @ covariance_matrix @ weights\n",
    "portfolio_std_dev = np.sqrt(portfolio_variance)"
   ]
  },
  {
   "cell_type": "markdown",
   "id": "3754d662-6fe3-43f3-8bd7-2f67a614be67",
   "metadata": {},
   "source": [
    "# Sharp Ratio"
   ]
  },
  {
   "cell_type": "code",
   "execution_count": 17,
   "id": "04bb6842-aa68-4f33-9bcc-6cdba2976894",
   "metadata": {},
   "outputs": [],
   "source": [
    "sharpe_ratio = (portfolio_return - risk_free_rate) / portfolio_std_dev"
   ]
  },
  {
   "cell_type": "markdown",
   "id": "4539aca5-481e-450d-9386-4614317356e3",
   "metadata": {},
   "source": [
    "# BETA"
   ]
  },
  {
   "cell_type": "code",
   "execution_count": 18,
   "id": "5625ae7a-f50a-4ee5-b789-bc42ee44a159",
   "metadata": {},
   "outputs": [],
   "source": [
    "beta= (portfolio_return - risk_free_rate) / (0.13 -  risk_free_rate)"
   ]
  },
  {
   "cell_type": "markdown",
   "id": "c13c7a83-fa71-4b9d-b3b5-45cdd748bba2",
   "metadata": {},
   "source": [
    "# Result"
   ]
  },
  {
   "cell_type": "code",
   "execution_count": 19,
   "id": "01aba12a-0582-42e3-8071-0d34a0bb873f",
   "metadata": {},
   "outputs": [
    {
     "name": "stdout",
     "output_type": "stream",
     "text": [
      "Portfolio Annual Return (using set weights): 31.28%\n",
      "Portfolio Variance: 6.78%\n",
      "Portfolio Standard Deviation: 26.05%\n",
      "Sharpe Ratio: 1.04\n",
      "BETA: 3.10\n"
     ]
    }
   ],
   "source": [
    "print(f\"Portfolio Annual Return (using set weights): {portfolio_return:.2%}\")\n",
    "print(f\"Portfolio Variance: {portfolio_variance:.2%}\")\n",
    "print(f\"Portfolio Standard Deviation: {portfolio_std_dev:.2%}\")\n",
    "print(f\"Sharpe Ratio: {sharpe_ratio:.2f}\")\n",
    "print(f\"BETA: {beta:.2f}\")"
   ]
  }
 ],
 "metadata": {
  "kernelspec": {
   "display_name": "Python 3 (ipykernel)",
   "language": "python",
   "name": "python3"
  },
  "language_info": {
   "codemirror_mode": {
    "name": "ipython",
    "version": 3
   },
   "file_extension": ".py",
   "mimetype": "text/x-python",
   "name": "python",
   "nbconvert_exporter": "python",
   "pygments_lexer": "ipython3",
   "version": "3.12.7"
  }
 },
 "nbformat": 4,
 "nbformat_minor": 5
}
