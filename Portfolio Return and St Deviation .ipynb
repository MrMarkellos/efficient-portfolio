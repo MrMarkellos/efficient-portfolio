{
 "cells": [
  {
   "cell_type": "markdown",
   "id": "a61aafbd-d91d-4418-aa37-8842723727c0",
   "metadata": {},
   "source": [
    "# Libraries"
   ]
  },
  {
   "cell_type": "code",
   "execution_count": 80,
   "id": "b93aae7f-2e96-4fa2-ab70-1f1a32593f05",
   "metadata": {},
   "outputs": [],
   "source": [
    "import numpy as np\n",
    "import pandas as pd\n",
    "from scipy.optimize import minimize\n",
    "import matplotlib.pyplot as plt"
   ]
  },
  {
   "cell_type": "code",
   "execution_count": 81,
   "id": "dadd4bb4-cc87-428b-9559-9b085675f0e5",
   "metadata": {},
   "outputs": [],
   "source": [
    "df = pd.read_csv (\"portfolio_data.csv\", header = [0,1], index_col = 0, parse_dates =[0])"
   ]
  },
  {
   "cell_type": "markdown",
   "id": "3145580d-7ad0-4848-9482-df0b50d0b3bb",
   "metadata": {},
   "source": [
    "# Portfolio Close Prices"
   ]
  },
  {
   "cell_type": "code",
   "execution_count": 82,
   "id": "33967f58-efe9-46c8-a1b8-dc95042f5f61",
   "metadata": {},
   "outputs": [
    {
     "data": {
      "text/html": [
       "<div>\n",
       "<style scoped>\n",
       "    .dataframe tbody tr th:only-of-type {\n",
       "        vertical-align: middle;\n",
       "    }\n",
       "\n",
       "    .dataframe tbody tr th {\n",
       "        vertical-align: top;\n",
       "    }\n",
       "\n",
       "    .dataframe thead th {\n",
       "        text-align: right;\n",
       "    }\n",
       "</style>\n",
       "<table border=\"1\" class=\"dataframe\">\n",
       "  <thead>\n",
       "    <tr style=\"text-align: right;\">\n",
       "      <th>Ticker</th>\n",
       "      <th>CW8.MI</th>\n",
       "      <th>ETHE</th>\n",
       "      <th>GC=F</th>\n",
       "      <th>IDTP.L</th>\n",
       "      <th>LYTNOW.SW</th>\n",
       "      <th>O</th>\n",
       "      <th>SXRC.MU</th>\n",
       "    </tr>\n",
       "    <tr>\n",
       "      <th>Date</th>\n",
       "      <th></th>\n",
       "      <th></th>\n",
       "      <th></th>\n",
       "      <th></th>\n",
       "      <th></th>\n",
       "      <th></th>\n",
       "      <th></th>\n",
       "    </tr>\n",
       "  </thead>\n",
       "  <tbody>\n",
       "    <tr>\n",
       "      <th>2020-02-03</th>\n",
       "      <td>314.929993</td>\n",
       "      <td>5.287778</td>\n",
       "      <td>1577.199951</td>\n",
       "      <td>223.800003</td>\n",
       "      <td>369.399994</td>\n",
       "      <td>59.392715</td>\n",
       "      <td>5.900</td>\n",
       "    </tr>\n",
       "    <tr>\n",
       "      <th>2020-02-04</th>\n",
       "      <td>320.260010</td>\n",
       "      <td>5.422222</td>\n",
       "      <td>1550.400024</td>\n",
       "      <td>223.649994</td>\n",
       "      <td>374.350006</td>\n",
       "      <td>59.483837</td>\n",
       "      <td>5.720</td>\n",
       "    </tr>\n",
       "    <tr>\n",
       "      <th>2020-02-05</th>\n",
       "      <td>323.459991</td>\n",
       "      <td>6.361111</td>\n",
       "      <td>1557.800049</td>\n",
       "      <td>223.500000</td>\n",
       "      <td>383.250000</td>\n",
       "      <td>59.620537</td>\n",
       "      <td>5.650</td>\n",
       "    </tr>\n",
       "    <tr>\n",
       "      <th>2020-02-06</th>\n",
       "      <td>326.029999</td>\n",
       "      <td>7.361111</td>\n",
       "      <td>1565.099976</td>\n",
       "      <td>222.429993</td>\n",
       "      <td>380.500000</td>\n",
       "      <td>60.114208</td>\n",
       "      <td>5.885</td>\n",
       "    </tr>\n",
       "    <tr>\n",
       "      <th>2020-02-07</th>\n",
       "      <td>325.829987</td>\n",
       "      <td>8.656667</td>\n",
       "      <td>1568.599976</td>\n",
       "      <td>223.539993</td>\n",
       "      <td>382.399994</td>\n",
       "      <td>60.387634</td>\n",
       "      <td>5.730</td>\n",
       "    </tr>\n",
       "    <tr>\n",
       "      <th>...</th>\n",
       "      <td>...</td>\n",
       "      <td>...</td>\n",
       "      <td>...</td>\n",
       "      <td>...</td>\n",
       "      <td>...</td>\n",
       "      <td>...</td>\n",
       "      <td>...</td>\n",
       "    </tr>\n",
       "    <tr>\n",
       "      <th>2025-01-27</th>\n",
       "      <td>575.369995</td>\n",
       "      <td>26.299999</td>\n",
       "      <td>2737.500000</td>\n",
       "      <td>241.580002</td>\n",
       "      <td>875.400024</td>\n",
       "      <td>55.729431</td>\n",
       "      <td>4.244</td>\n",
       "    </tr>\n",
       "    <tr>\n",
       "      <th>2025-01-28</th>\n",
       "      <td>582.809998</td>\n",
       "      <td>25.870001</td>\n",
       "      <td>2766.800049</td>\n",
       "      <td>241.419998</td>\n",
       "      <td>901.099976</td>\n",
       "      <td>54.714359</td>\n",
       "      <td>4.256</td>\n",
       "    </tr>\n",
       "    <tr>\n",
       "      <th>2025-01-29</th>\n",
       "      <td>584.380005</td>\n",
       "      <td>26.240000</td>\n",
       "      <td>2769.100098</td>\n",
       "      <td>241.630005</td>\n",
       "      <td>914.599976</td>\n",
       "      <td>53.798805</td>\n",
       "      <td>4.283</td>\n",
       "    </tr>\n",
       "    <tr>\n",
       "      <th>2025-01-30</th>\n",
       "      <td>586.260010</td>\n",
       "      <td>27.040001</td>\n",
       "      <td>2823.000000</td>\n",
       "      <td>241.684998</td>\n",
       "      <td>894.000000</td>\n",
       "      <td>54.057545</td>\n",
       "      <td>4.282</td>\n",
       "    </tr>\n",
       "    <tr>\n",
       "      <th>2025-01-31</th>\n",
       "      <td>592.080017</td>\n",
       "      <td>27.730000</td>\n",
       "      <td>2812.500000</td>\n",
       "      <td>241.880005</td>\n",
       "      <td>910.900024</td>\n",
       "      <td>54.375999</td>\n",
       "      <td>4.345</td>\n",
       "    </tr>\n",
       "  </tbody>\n",
       "</table>\n",
       "<p>1293 rows × 7 columns</p>\n",
       "</div>"
      ],
      "text/plain": [
       "Ticker          CW8.MI       ETHE         GC=F      IDTP.L   LYTNOW.SW  \\\n",
       "Date                                                                     \n",
       "2020-02-03  314.929993   5.287778  1577.199951  223.800003  369.399994   \n",
       "2020-02-04  320.260010   5.422222  1550.400024  223.649994  374.350006   \n",
       "2020-02-05  323.459991   6.361111  1557.800049  223.500000  383.250000   \n",
       "2020-02-06  326.029999   7.361111  1565.099976  222.429993  380.500000   \n",
       "2020-02-07  325.829987   8.656667  1568.599976  223.539993  382.399994   \n",
       "...                ...        ...          ...         ...         ...   \n",
       "2025-01-27  575.369995  26.299999  2737.500000  241.580002  875.400024   \n",
       "2025-01-28  582.809998  25.870001  2766.800049  241.419998  901.099976   \n",
       "2025-01-29  584.380005  26.240000  2769.100098  241.630005  914.599976   \n",
       "2025-01-30  586.260010  27.040001  2823.000000  241.684998  894.000000   \n",
       "2025-01-31  592.080017  27.730000  2812.500000  241.880005  910.900024   \n",
       "\n",
       "Ticker              O  SXRC.MU  \n",
       "Date                            \n",
       "2020-02-03  59.392715    5.900  \n",
       "2020-02-04  59.483837    5.720  \n",
       "2020-02-05  59.620537    5.650  \n",
       "2020-02-06  60.114208    5.885  \n",
       "2020-02-07  60.387634    5.730  \n",
       "...               ...      ...  \n",
       "2025-01-27  55.729431    4.244  \n",
       "2025-01-28  54.714359    4.256  \n",
       "2025-01-29  53.798805    4.283  \n",
       "2025-01-30  54.057545    4.282  \n",
       "2025-01-31  54.375999    4.345  \n",
       "\n",
       "[1293 rows x 7 columns]"
      ]
     },
     "execution_count": 82,
     "metadata": {},
     "output_type": "execute_result"
    }
   ],
   "source": [
    "df.Close\n",
    "close = df.Close.copy()\n",
    "close"
   ]
  },
  {
   "cell_type": "markdown",
   "id": "1ffeb08e-3439-4746-8c05-bccd5afc7dcf",
   "metadata": {},
   "source": [
    "# Assets Expected Return and Variance"
   ]
  },
  {
   "cell_type": "code",
   "execution_count": 83,
   "id": "5694b4fa-5ad7-4715-84ae-ade4510ef350",
   "metadata": {},
   "outputs": [],
   "source": [
    "# Get the list of assets (assuming they are the top-level columns of the 'Close' DataFrame)\n",
    "assets = close.columns.get_level_values(0).unique()"
   ]
  },
  {
   "cell_type": "code",
   "execution_count": 84,
   "id": "15b08d26-05a3-4454-9c3c-b1675c30decf",
   "metadata": {},
   "outputs": [
    {
     "name": "stdout",
     "output_type": "stream",
     "text": [
      "The Expected Return for CW8.MI is 13.92% per year.\n",
      "The St Deviation for CW8.MI is 16.79% per year.\n",
      "The Expected Return for ETHE is 91.16% per year.\n",
      "The St Deviation for ETHE is 107.73% per year.\n",
      "The Expected Return for GC=F is 12.93% per year.\n",
      "The St Deviation for GC=F is 16.31% per year.\n",
      "The Expected Return for IDTP.L is 1.86% per year.\n",
      "The St Deviation for IDTP.L is 7.86% per year.\n",
      "The Expected Return for LYTNOW.SW is 21.46% per year.\n",
      "The St Deviation for LYTNOW.SW is 26.02% per year.\n",
      "The Expected Return for O is 3.34% per year.\n",
      "The St Deviation for O is 31.36% per year.\n",
      "The Expected Return for SXRC.MU is 1.58% per year.\n",
      "The St Deviation for SXRC.MU is 39.10% per year.\n"
     ]
    },
    {
     "name": "stderr",
     "output_type": "stream",
     "text": [
      "C:\\Users\\marke\\AppData\\Local\\Temp\\ipykernel_11436\\1777466433.py:4: FutureWarning: The default fill_method='pad' in DataFrame.pct_change is deprecated and will be removed in a future version. Either fill in any non-leading NA values prior to calling pct_change or specify 'fill_method=None' to not fill NA values.\n",
      "  returns_all_assets = close.pct_change().dropna()\n"
     ]
    }
   ],
   "source": [
    "results = {}\n",
    "\n",
    "# Calculate returns for ALL assets FIRST \n",
    "returns_all_assets = close.pct_change().dropna()  \n",
    "\n",
    "\n",
    "for asset in assets:\n",
    "    asset_data = close[asset].dropna().to_frame().copy()\n",
    "    asset_data.rename(columns={asset: \"Price\"}, inplace=True)\n",
    "\n",
    "     # Calculate returns\n",
    "    asset_data[\"returns\"] = asset_data[\"Price\"].pct_change() \n",
    "\n",
    "     # Annualize (252 trading days)\n",
    "    expected_return = np.mean(asset_data[\"returns\"]) \n",
    "    expected_return = expected_return*252\n",
    "    variance = np.var(asset_data[\"returns\"])\n",
    "    st_deviation =  np.sqrt(variance*252)\n",
    "\n",
    "    # Print the value\n",
    "    print(f\"The Expected Return for {asset} is {expected_return:.2%} per year.\")\n",
    "    print(f\"The St Deviation for {asset} is {st_deviation:.2%} per year.\") \n",
    "\n",
    "     # Store both return and variance in a dictionary\n",
    "    results[asset] = { \n",
    "        \"Expected Return\": expected_return,\n",
    "        \"St. Deviation\": st_deviation\n",
    "    }"
   ]
  },
  {
   "cell_type": "code",
   "execution_count": 85,
   "id": "dd526bbf-88cc-4d3e-b7fb-ffe70c261b45",
   "metadata": {},
   "outputs": [
    {
     "name": "stdout",
     "output_type": "stream",
     "text": [
      "\n",
      "Summary of Expected Annual Returns and St. Deviations:\n",
      "           Expected Return  St. Deviation\n",
      "CW8.MI            0.139176       0.167907\n",
      "ETHE              0.911621       1.077334\n",
      "GC=F              0.129304       0.163080\n",
      "IDTP.L            0.018626       0.078577\n",
      "LYTNOW.SW         0.214568       0.260239\n",
      "O                 0.033352       0.313566\n",
      "SXRC.MU           0.015800       0.390975\n"
     ]
    }
   ],
   "source": [
    "# DataFrame to summarize the results:\n",
    "results_df = pd.DataFrame.from_dict(results, orient='index')\n",
    "\n",
    "print(\"\\nSummary of Expected Annual Returns and St. Deviations:\")\n",
    "print(results_df)"
   ]
  },
  {
   "cell_type": "code",
   "execution_count": 86,
   "id": "8e5ce6e5-56ef-4d72-8017-5a3334953c06",
   "metadata": {},
   "outputs": [],
   "source": [
    "results_df.to_csv(\"portfolio_return.csv\")"
   ]
  },
  {
   "cell_type": "code",
   "execution_count": 87,
   "id": "087cfbb7-2d00-4a8e-9c0a-ecaf4ce1661b",
   "metadata": {},
   "outputs": [
    {
     "name": "stderr",
     "output_type": "stream",
     "text": [
      "C:\\Users\\marke\\AppData\\Local\\Temp\\ipykernel_11436\\2684805843.py:9: FutureWarning: Series.__getitem__ treating keys as positions is deprecated. In a future version, integer keys will always be treated as labels (consistent with DataFrame behavior). To access a value by position, use `ser.iloc[pos]`\n",
      "  plt.annotate(asset, (results_df['St. Deviation'][i], results_df['Expected Return'][i]), textcoords=\"offset points\", xytext=(0,10), ha='center')\n"
     ]
    },
    {
     "data": {
      "image/png": "[encoded data removed]",
      "text/plain": [
       "<Figure size 1000x600 with 1 Axes>"
      ]
     },
     "metadata": {},
     "output_type": "display_data"
    }
   ],
   "source": [
    "plt.figure(figsize=(10, 6))\n",
    "plt.scatter(results_df['St. Deviation'], results_df['Expected Return'], color='mediumseagreen', s=100)  # Adjust marker size (s)\n",
    "plt.xlabel('Annual Return St. Deviation')\n",
    "plt.ylabel('Expected Annual Return')\n",
    "plt.title('Expected Return vs. St. Deviation of Assets')\n",
    "\n",
    "# Add annotations for each point (optional):\n",
    "for i, asset in enumerate(results_df.index):\n",
    "    plt.annotate(asset, (results_df['St. Deviation'][i], results_df['Expected Return'][i]), textcoords=\"offset points\", xytext=(0,10), ha='center')\n",
    "\n",
    "plt.tight_layout()\n",
    "plt.show()"
   ]
  },
  {
   "cell_type": "markdown",
   "id": "83d66340-aa1f-44fc-a5ef-88daae37a46e",
   "metadata": {},
   "source": [
    "# Covariance"
   ]
  },
  {
   "cell_type": "code",
   "execution_count": 88,
   "id": "dfd2210f-2438-498c-bce0-a380ac1ec724",
   "metadata": {},
   "outputs": [
    {
     "data": {
      "text/html": [
       "<div>\n",
       "<style scoped>\n",
       "    .dataframe tbody tr th:only-of-type {\n",
       "        vertical-align: middle;\n",
       "    }\n",
       "\n",
       "    .dataframe tbody tr th {\n",
       "        vertical-align: top;\n",
       "    }\n",
       "\n",
       "    .dataframe thead th {\n",
       "        text-align: right;\n",
       "    }\n",
       "</style>\n",
       "<table border=\"1\" class=\"dataframe\">\n",
       "  <thead>\n",
       "    <tr style=\"text-align: right;\">\n",
       "      <th>Ticker</th>\n",
       "      <th>CW8.MI</th>\n",
       "      <th>ETHE</th>\n",
       "      <th>GC=F</th>\n",
       "      <th>IDTP.L</th>\n",
       "      <th>LYTNOW.SW</th>\n",
       "      <th>O</th>\n",
       "      <th>SXRC.MU</th>\n",
       "    </tr>\n",
       "    <tr>\n",
       "      <th>Ticker</th>\n",
       "      <th></th>\n",
       "      <th></th>\n",
       "      <th></th>\n",
       "      <th></th>\n",
       "      <th></th>\n",
       "      <th></th>\n",
       "      <th></th>\n",
       "    </tr>\n",
       "  </thead>\n",
       "  <tbody>\n",
       "    <tr>\n",
       "      <th>CW8.MI</th>\n",
       "      <td>0.027801</td>\n",
       "      <td>0.042987</td>\n",
       "      <td>0.001603</td>\n",
       "      <td>0.002170</td>\n",
       "      <td>0.028808</td>\n",
       "      <td>0.019805</td>\n",
       "      <td>-0.002027</td>\n",
       "    </tr>\n",
       "    <tr>\n",
       "      <th>ETHE</th>\n",
       "      <td>0.042987</td>\n",
       "      <td>1.129271</td>\n",
       "      <td>0.022945</td>\n",
       "      <td>0.011014</td>\n",
       "      <td>0.051099</td>\n",
       "      <td>0.064462</td>\n",
       "      <td>-0.014519</td>\n",
       "    </tr>\n",
       "    <tr>\n",
       "      <th>GC=F</th>\n",
       "      <td>0.001603</td>\n",
       "      <td>0.022945</td>\n",
       "      <td>0.025897</td>\n",
       "      <td>0.004846</td>\n",
       "      <td>0.006028</td>\n",
       "      <td>0.006845</td>\n",
       "      <td>0.002054</td>\n",
       "    </tr>\n",
       "    <tr>\n",
       "      <th>IDTP.L</th>\n",
       "      <td>0.002170</td>\n",
       "      <td>0.011014</td>\n",
       "      <td>0.004846</td>\n",
       "      <td>0.006031</td>\n",
       "      <td>0.003299</td>\n",
       "      <td>0.007294</td>\n",
       "      <td>0.004802</td>\n",
       "    </tr>\n",
       "    <tr>\n",
       "      <th>LYTNOW.SW</th>\n",
       "      <td>0.028808</td>\n",
       "      <td>0.051099</td>\n",
       "      <td>0.006028</td>\n",
       "      <td>0.003299</td>\n",
       "      <td>0.066103</td>\n",
       "      <td>0.015365</td>\n",
       "      <td>-0.004627</td>\n",
       "    </tr>\n",
       "    <tr>\n",
       "      <th>O</th>\n",
       "      <td>0.019805</td>\n",
       "      <td>0.064462</td>\n",
       "      <td>0.006845</td>\n",
       "      <td>0.007294</td>\n",
       "      <td>0.015365</td>\n",
       "      <td>0.095658</td>\n",
       "      <td>0.005079</td>\n",
       "    </tr>\n",
       "    <tr>\n",
       "      <th>SXRC.MU</th>\n",
       "      <td>-0.002027</td>\n",
       "      <td>-0.014519</td>\n",
       "      <td>0.002054</td>\n",
       "      <td>0.004802</td>\n",
       "      <td>-0.004627</td>\n",
       "      <td>0.005079</td>\n",
       "      <td>0.150375</td>\n",
       "    </tr>\n",
       "  </tbody>\n",
       "</table>\n",
       "</div>"
      ],
      "text/plain": [
       "Ticker       CW8.MI      ETHE      GC=F    IDTP.L  LYTNOW.SW         O  \\\n",
       "Ticker                                                                   \n",
       "CW8.MI     0.027801  0.042987  0.001603  0.002170   0.028808  0.019805   \n",
       "ETHE       0.042987  1.129271  0.022945  0.011014   0.051099  0.064462   \n",
       "GC=F       0.001603  0.022945  0.025897  0.004846   0.006028  0.006845   \n",
       "IDTP.L     0.002170  0.011014  0.004846  0.006031   0.003299  0.007294   \n",
       "LYTNOW.SW  0.028808  0.051099  0.006028  0.003299   0.066103  0.015365   \n",
       "O          0.019805  0.064462  0.006845  0.007294   0.015365  0.095658   \n",
       "SXRC.MU   -0.002027 -0.014519  0.002054  0.004802  -0.004627  0.005079   \n",
       "\n",
       "Ticker      SXRC.MU  \n",
       "Ticker               \n",
       "CW8.MI    -0.002027  \n",
       "ETHE      -0.014519  \n",
       "GC=F       0.002054  \n",
       "IDTP.L     0.004802  \n",
       "LYTNOW.SW -0.004627  \n",
       "O          0.005079  \n",
       "SXRC.MU    0.150375  "
      ]
     },
     "execution_count": 88,
     "metadata": {},
     "output_type": "execute_result"
    }
   ],
   "source": [
    "covariance_matrix = returns_all_assets.cov() * 252  # Annualize the covariance matrix\n",
    "covariance_matrix "
   ]
  },
  {
   "cell_type": "code",
   "execution_count": 89,
   "id": "8570e4a8-5a03-499a-8aba-90179719147a",
   "metadata": {},
   "outputs": [],
   "source": [
    "covariance_matrix.to_csv(\"portfolio_covariance.csv\")"
   ]
  },
  {
   "cell_type": "markdown",
   "id": "f1e44863-6a93-4677-9b8b-7646b60cd0dc",
   "metadata": {},
   "source": [
    "# Portfolio Annual Return & Variance"
   ]
  },
  {
   "cell_type": "code",
   "execution_count": 90,
   "id": "1b7f5a35-08c5-4d4d-8b46-32fdf6cfcc04",
   "metadata": {},
   "outputs": [],
   "source": [
    "# 2% annual risk-free rate\n",
    "risk_free_rate = 0.04 "
   ]
  },
  {
   "cell_type": "code",
   "execution_count": 91,
   "id": "a3956851-963b-43e2-804c-f135b8876aff",
   "metadata": {},
   "outputs": [],
   "source": [
    "# Set your desired weights:\n",
    "weights = np.array([0.1, 0.15, 0.15, 0.05, 0.3, 0.07, 0.05])"
   ]
  },
  {
   "cell_type": "code",
   "execution_count": 92,
   "id": "e460748c-6999-4e82-a750-f8708bbf9cba",
   "metadata": {},
   "outputs": [],
   "source": [
    "# Make sure the number of weights matches the number of assets\n",
    "if len(weights) != len(assets):\n",
    "    raise ValueError(\"Number of weights must match the number of assets.\")"
   ]
  },
  {
   "cell_type": "code",
   "execution_count": 93,
   "id": "9b93e118-f6bd-4393-be11-11a89cfbf724",
   "metadata": {},
   "outputs": [],
   "source": [
    "# Normalize the weights (just in case they don't sum to exactly 1 due to rounding):\n",
    "weights = weights / np.sum(weights)"
   ]
  },
  {
   "cell_type": "code",
   "execution_count": 94,
   "id": "a107a5bb-d2ff-46fb-ae43-c5ba826a85a9",
   "metadata": {},
   "outputs": [],
   "source": [
    "portfolio_return = np.sum(weights * results_df['Expected Return'])"
   ]
  },
  {
   "cell_type": "code",
   "execution_count": 95,
   "id": "69bde4d9-1801-4b33-9d81-c2bf653f5d33",
   "metadata": {},
   "outputs": [],
   "source": [
    "#Calculating portfolio variance with set weights:\n",
    "portfolio_variance = weights.T @ covariance_matrix @ weights\n",
    "portfolio_std_dev = np.sqrt(portfolio_variance)"
   ]
  },
  {
   "cell_type": "markdown",
   "id": "3754d662-6fe3-43f3-8bd7-2f67a614be67",
   "metadata": {},
   "source": [
    "# Sharp Ratio"
   ]
  },
  {
   "cell_type": "code",
   "execution_count": 96,
   "id": "04bb6842-aa68-4f33-9bcc-6cdba2976894",
   "metadata": {},
   "outputs": [],
   "source": [
    "sharpe_ratio = (portfolio_return - risk_free_rate) / portfolio_std_dev"
   ]
  },
  {
   "cell_type": "markdown",
   "id": "c13c7a83-fa71-4b9d-b3b5-45cdd748bba2",
   "metadata": {},
   "source": [
    "# Result"
   ]
  },
  {
   "cell_type": "code",
   "execution_count": 97,
   "id": "01aba12a-0582-42e3-8071-0d34a0bb873f",
   "metadata": {},
   "outputs": [
    {
     "name": "stdout",
     "output_type": "stream",
     "text": [
      "Portfolio Annual Return (using set weights): 27.41%\n",
      "Portfolio Variance: 5.93%\n",
      "Portfolio Standard Deviation: 24.35%\n",
      "Sharpe Ratio: 0.96\n"
     ]
    }
   ],
   "source": [
    "print(f\"Portfolio Annual Return (using set weights): {portfolio_return:.2%}\")\n",
    "print(f\"Portfolio Variance: {portfolio_variance:.2%}\")\n",
    "print(f\"Portfolio Standard Deviation: {portfolio_std_dev:.2%}\")\n",
    "print(f\"Sharpe Ratio: {sharpe_ratio:.2f}\")"
   ]
  }
 ],
 "metadata": {
  "kernelspec": {
   "display_name": "Python 3 (ipykernel)",
   "language": "python",
   "name": "python3"
  },
  "language_info": {
   "codemirror_mode": {
    "name": "ipython",
    "version": 3
   },
   "file_extension": ".py",
   "mimetype": "text/x-python",
   "name": "python",
   "nbconvert_exporter": "python",
   "pygments_lexer": "ipython3",
   "version": "3.12.7"
  }
 },
 "nbformat": 4,
 "nbformat_minor": 5
}
